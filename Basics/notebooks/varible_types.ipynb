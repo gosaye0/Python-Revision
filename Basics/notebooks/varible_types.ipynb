{
 "cells": [
  {
   "cell_type": "markdown",
   "id": "0b3f5de2-39f1-4993-8a4b-da63e37f8c6d",
   "metadata": {},
   "source": [
    "# Python Syntax, Variables & Data Types"
   ]
  },
  {
   "cell_type": "markdown",
   "id": "60dff793-0b05-46f7-afa6-299c640d26a2",
   "metadata": {},
   "source": [
    "## Objectives:\n",
    "1. understand and use varibles correctly\n",
    "2. work with python core data types\n",
    "3. practice type casting and dynamic typing\n",
    "4. write, run and debug python scripts"
   ]
  },
  {
   "cell_type": "markdown",
   "id": "07fcdd6c-ffd2-4a46-ae1b-fe0236814b78",
   "metadata": {},
   "source": [
    "## Varible manipulation"
   ]
  },
  {
   "cell_type": "code",
   "execution_count": 4,
   "id": "e5dda0ac-a54c-4bf0-910f-093d7a4ca502",
   "metadata": {},
   "outputs": [
    {
     "name": "stdout",
     "output_type": "stream",
     "text": [
      "My name is Gosaye Emshaw. I am 24 years old. I am 1.78m tall. And it is True I am a student.\n"
     ]
    }
   ],
   "source": [
    "first_name = 'Gosaye'\n",
    "last_name = 'Emshaw'\n",
    "age = 24\n",
    "height = 1.78\n",
    "is_student = True\n",
    "\n",
    "print(f'My name is {first_name} {last_name}. I am {age} years old. I am {height}m tall. And it is {is_student} I am a student.')"
   ]
  },
  {
   "cell_type": "markdown",
   "id": "bc7e3aba-b602-4a2a-8e6a-961f6bdfd5de",
   "metadata": {},
   "source": [
    "## Dynamic Typing Check"
   ]
  },
  {
   "cell_type": "code",
   "execution_count": 6,
   "id": "ae1fd919-4ebb-4150-ab56-92140abf0277",
   "metadata": {},
   "outputs": [
    {
     "name": "stdout",
     "output_type": "stream",
     "text": [
      "<class 'int'>\n",
      "<class 'str'>\n"
     ]
    }
   ],
   "source": [
    "x = 42\n",
    "print(type(x))\n",
    "\n",
    "x = 'python is fun.'\n",
    "print(type(x))"
   ]
  },
  {
   "cell_type": "markdown",
   "id": "014dbb3d-7d6f-407d-a603-73c6686c3c9f",
   "metadata": {},
   "source": [
    "## Type Casting"
   ]
  },
  {
   "cell_type": "code",
   "execution_count": 8,
   "id": "db70b2ee-ae19-44cd-9104-2bedf08b243e",
   "metadata": {},
   "outputs": [
    {
     "name": "stdout",
     "output_type": "stream",
     "text": [
      "10.5\n",
      "100\n",
      "1\n",
      "True\n"
     ]
    }
   ],
   "source": [
    "print(float(\"10.5\"))\n",
    "print(str(100))\n",
    "print(int(True))\n",
    "print(bool(\" \"))\n",
    "\n",
    "def safe_int_cast(x):\n",
    "    try:\n",
    "        return int(x)\n",
    "    except:\n",
    "        return None\n",
    "\n",
    "safe_int_cast('abc')"
   ]
  },
  {
   "cell_type": "markdown",
   "id": "1e2482b5-1374-47c8-9610-c33011ed6385",
   "metadata": {},
   "source": [
    "## Arithmetic Practice"
   ]
  },
  {
   "cell_type": "code",
   "execution_count": 10,
   "id": "e8da4d3c-7a6d-42bc-ad79-02d3b2b13714",
   "metadata": {},
   "outputs": [
    {
     "name": "stdout",
     "output_type": "stream",
     "text": [
      "The sum of 10 and 3.5 is 13.5.\n",
      "The difference of 10 and 3.5 is 6.5.\n",
      "The product of 10 and 3.5 is 35.0.\n",
      "The integer division of 10 by 3.5 is 2.\n",
      "The remainder of 10 divided by 3.5 is 3.0.\n",
      "The 3.5 power of 10 is 3162.2776601683795.\n"
     ]
    }
   ],
   "source": [
    "a = 10\n",
    "b = 3.5\n",
    "\n",
    "# Add a and b\n",
    "print(f'The sum of {a} and {b} is {a + b}.')\n",
    "\n",
    "# Substract b from a\n",
    "print(f'The difference of {a} and {b} is {a - b}.')\n",
    "\n",
    "# Product of a and b\n",
    "print(f'The product of {a} and {b} is {a * b}.')\n",
    "\n",
    "# Divide a by b display only integer\n",
    "print(f'The integer division of {a} by {b} is {int(a // b)}.')\n",
    "\n",
    "# Remiander of a divided by b\n",
    "print(f'The remainder of {a} divided by {b} is {a % b}.')\n",
    "\n",
    "# a raised the power of b\n",
    "print(f'The {b} power of {a} is {a ** b}.')"
   ]
  },
  {
   "cell_type": "markdown",
   "id": "0a339945-b788-4eef-b02b-b4e50ef47e69",
   "metadata": {},
   "source": [
    "## Boolean Logic"
   ]
  },
  {
   "cell_type": "code",
   "execution_count": 12,
   "id": "04a6fce1-1696-4124-bc00-8cf154a4c5b4",
   "metadata": {},
   "outputs": [
    {
     "name": "stdout",
     "output_type": "stream",
     "text": [
      "Is 10 > 20? False\n",
      "Is 10 < 20? True\n",
      "Is 10 > 15? False\n"
     ]
    }
   ],
   "source": [
    "a = 10\n",
    "b = 20\n",
    "\n",
    "# Evaluate if a is greater than b\n",
    "print(f'Is {a} > {b}? {a > b}')\n",
    "\n",
    "# Evaluate if a is less than b\n",
    "print(f'Is {a} < {b}? {a < b}')\n",
    "\n",
    "# Evaluate if a is greater than 15\n",
    "print(f'Is {a} > 15? {a > 15}')"
   ]
  },
  {
   "cell_type": "markdown",
   "id": "d89f68df-d612-4a50-bd72-b71a555be3ff",
   "metadata": {},
   "source": [
    "## String Tricks"
   ]
  },
  {
   "cell_type": "code",
   "execution_count": 14,
   "id": "efb41982-34a7-4680-84d1-db75e03cdfb4",
   "metadata": {},
   "outputs": [
    {
     "name": "stdout",
     "output_type": "stream",
     "text": [
      "The reverse of gosaye is eyasog\n"
     ]
    }
   ],
   "source": [
    "name = 'gosaye'\n",
    "\n",
    "# Reverse the string\n",
    "reversed_name = name[::-1]\n",
    "print(f'The reverse of {name} is {reversed_name}')"
   ]
  },
  {
   "cell_type": "code",
   "execution_count": 25,
   "id": "fe69b179-f522-414c-8ca0-811965457ef5",
   "metadata": {},
   "outputs": [
    {
     "name": "stdout",
     "output_type": "stream",
     "text": [
      "['a', 'a', 'i', 'e', 'e', 'a', 'a', 'i', 'e', 'e', 'a', 'i']\n"
     ]
    }
   ],
   "source": [
    "text = \"Data Science and Machine Learning\"\n",
    "vowels = []\n",
    "for letter in text:\n",
    "    if letter in ['a', 'e', 'i', 'o', 'u']:\n",
    "        vowels.append(letter)\n",
    "print(vowels)"
   ]
  },
  {
   "cell_type": "code",
   "execution_count": 27,
   "id": "f24bcce9-a805-47f8-abc0-a2b6273ea50f",
   "metadata": {},
   "outputs": [
    {
     "name": "stdout",
     "output_type": "stream",
     "text": [
      "12\n"
     ]
    }
   ],
   "source": [
    "vowels = 'aeiouAEIOU'\n",
    "num_vowels = sum(1 for letter in text if letter in vowels)\n",
    "print(num_vowels)"
   ]
  },
  {
   "cell_type": "markdown",
   "id": "30bab67e-8495-4a8c-bbfe-d169da34f865",
   "metadata": {},
   "source": [
    "Extract the middle character from any string (odd/even length)"
   ]
  },
  {
   "cell_type": "code",
   "execution_count": 52,
   "id": "d8938da2-56bc-40a4-9474-7dacc27233a6",
   "metadata": {},
   "outputs": [
    {
     "name": "stdout",
     "output_type": "stream",
     "text": [
      "th\n",
      "a\n",
      "\n"
     ]
    }
   ],
   "source": [
    "def extract_middle(s):\n",
    "    n = len(s)\n",
    "    m = n // 2\n",
    "    if n == 0:\n",
    "        return ''\n",
    "    elif n % 2 == 0:\n",
    "        return s[m - 1:m + 1]\n",
    "    else:\n",
    "        return s[m]\n",
    "\n",
    "print(extract_middle('python'))    \n",
    "print(extract_middle('learn'))      \n",
    "print(extract_middle(''))           \n"
   ]
  },
  {
   "cell_type": "code",
   "execution_count": null,
   "id": "0bc6f096-9ce1-4849-abd7-7a6ef2c462ce",
   "metadata": {},
   "outputs": [],
   "source": []
  }
 ],
 "metadata": {
  "kernelspec": {
   "display_name": "Python [conda env:base] *",
   "language": "python",
   "name": "conda-base-py"
  },
  "language_info": {
   "codemirror_mode": {
    "name": "ipython",
    "version": 3
   },
   "file_extension": ".py",
   "mimetype": "text/x-python",
   "name": "python",
   "nbconvert_exporter": "python",
   "pygments_lexer": "ipython3",
   "version": "3.12.3"
  }
 },
 "nbformat": 4,
 "nbformat_minor": 5
}
